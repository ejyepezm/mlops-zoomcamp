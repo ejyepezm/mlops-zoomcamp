{
 "cells": [
  {
   "cell_type": "code",
   "execution_count": null,
   "metadata": {},
   "outputs": [],
   "source": [
    "# Script for creating mlflow server\n",
    "\n",
    "\n",
    "# mlflow server --backend-store-uri=sqlite:///mlflow.db --default-artifact-root=file:artifacts --host 0.0.0.0 --port 5000\n",
    "\n",
    "# in python script mlflow.set_tracking_uri('http://login-ip-address:5000')\n",
    "\n",
    "# source https://github.com/mlflow/mlflow/discussions/5908"
   ]
  }
 ],
 "metadata": {
  "kernelspec": {
   "display_name": "eda_general",
   "language": "python",
   "name": "python3"
  },
  "language_info": {
   "codemirror_mode": {
    "name": "ipython",
    "version": 3
   },
   "file_extension": ".py",
   "mimetype": "text/x-python",
   "name": "python",
   "nbconvert_exporter": "python",
   "pygments_lexer": "ipython3",
   "version": "3.11.3"
  },
  "orig_nbformat": 4
 },
 "nbformat": 4,
 "nbformat_minor": 2
}
